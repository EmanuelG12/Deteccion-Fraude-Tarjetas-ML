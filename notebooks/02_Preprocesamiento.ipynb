{
 "cells": [
  {
   "cell_type": "markdown",
   "id": "faa2cec3",
   "metadata": {},
   "source": [
    "# <center> PREPROCESAMIENTO"
   ]
  },
  {
   "cell_type": "markdown",
   "id": "760b1029",
   "metadata": {},
   "source": [
    "## IMPORTANTE\n",
    "A partir de nuestro análisis exploratorio de datos (EDA), hemos observado un notable desbalance en la variable objetivo (Class). Este desbalance es especialmente significativo en la clase 1, que representa los casos de fraude. Es crucial tener en cuenta esta desigualdad en la distribución de las clases, ya que puede afectar el rendimiento de los modelos de aprendizaje automático que se desarrollen posteriormente."
   ]
  },
  {
   "cell_type": "code",
   "execution_count": 1,
   "id": "e47f140a",
   "metadata": {},
   "outputs": [],
   "source": [
    "# Importación de librerias\n",
    "import numpy as np \n",
    "import pandas as pd\n",
    "import matplotlib.pyplot as plt\n",
    "import seaborn as sns\n",
    "from sklearn.model_selection import train_test_split\n",
    "from imblearn.under_sampling import RandomUnderSampler\n",
    "from imblearn.combine import SMOTEENN\n",
    "from imblearn.over_sampling import SMOTE\n",
    "from collections import Counter\n",
    "\n",
    "# Importamos data\n",
    "df = pd.read_csv('../data/raw/creditcard.csv', sep = ',')"
   ]
  },
  {
   "cell_type": "code",
   "execution_count": 2,
   "id": "dbc0b924",
   "metadata": {},
   "outputs": [
    {
     "name": "stdout",
     "output_type": "stream",
     "text": [
      "Counter({0: 177696, 1: 142157})\n"
     ]
    }
   ],
   "source": [
    "# Definimos X e y\n",
    "X = df.drop('Class', axis = 1)\n",
    "y = df['Class']\n",
    "\n",
    "# Realizamos el SMOTE + Undersampling\n",
    "smote = SMOTE(sampling_strategy=0.5)\n",
    "rus = RandomUnderSampler(sampling_strategy=0.8)\n",
    "X_res, y_res = smote.fit_resample(X,y)\n",
    "X_res, y_res = rus.fit_resample(X_res,y_res)\n",
    "print(Counter(y_res))"
   ]
  },
  {
   "cell_type": "code",
   "execution_count": 3,
   "id": "eaaae718",
   "metadata": {},
   "outputs": [
    {
     "data": {
      "text/plain": [
       "Class\n",
       "0    177696\n",
       "1    142157\n",
       "Name: count, dtype: int64"
      ]
     },
     "execution_count": 3,
     "metadata": {},
     "output_type": "execute_result"
    }
   ],
   "source": [
    "y_res.value_counts()"
   ]
  },
  {
   "cell_type": "markdown",
   "id": "dea73ede",
   "metadata": {},
   "source": [
    "Hemos implementado las técnicas de SMOTE y UnderSampling para mitigar el desbalance en las clases de nuestro conjunto de datos. Como resultado, ahora contamos con 177696 registros de la clase 0 (No fraude) y 142157 registros de la clase 1 (Fraude). Este equilibrio en la distribución de las clases es fundamental para mejorar la efectividad de los modelos de aprendizaje automático que se desarrollen a partir de estos datos."
   ]
  },
  {
   "cell_type": "code",
   "execution_count": 4,
   "id": "bb026bd0",
   "metadata": {},
   "outputs": [],
   "source": [
    "# Spliteamos data\n",
    "X_train, X_test, y_train, y_test = train_test_split(X_res, y_res, test_size=0.30, random_state=42)\n",
    "\n",
    "# Concatenamos datos de train y test\n",
    "train = pd.concat([X_train, y_train], axis=1)\n",
    "test = pd.concat([X_test, y_test], axis=1)\n",
    "\n",
    "# Guardamos archivos en data\n",
    "train.to_csv('../data/processed/train.csv', index=False)\n",
    "test.to_csv('../data/processed/test.csv', index=False)"
   ]
  }
 ],
 "metadata": {
  "kernelspec": {
   "display_name": "venv",
   "language": "python",
   "name": "python3"
  },
  "language_info": {
   "codemirror_mode": {
    "name": "ipython",
    "version": 3
   },
   "file_extension": ".py",
   "mimetype": "text/x-python",
   "name": "python",
   "nbconvert_exporter": "python",
   "pygments_lexer": "ipython3",
   "version": "3.13.5"
  }
 },
 "nbformat": 4,
 "nbformat_minor": 5
}
