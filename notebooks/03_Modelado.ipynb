{
 "cells": [
  {
   "cell_type": "markdown",
   "id": "9e34255f",
   "metadata": {},
   "source": [
    "# <center> MODELADO"
   ]
  },
  {
   "cell_type": "code",
   "execution_count": 1,
   "id": "892e4081",
   "metadata": {},
   "outputs": [],
   "source": [
    "# Importación de librerias\n",
    "import numpy as np \n",
    "import pandas as pd\n",
    "import matplotlib.pyplot as plt\n",
    "import seaborn as sns\n",
    "from sklearn.linear_model import LogisticRegression\n",
    "from sklearn.ensemble import RandomForestClassifier\n",
    "from xgboost import XGBClassifier\n",
    "\n",
    "\n",
    "# Importamos data\n",
    "train = pd.read_csv('../data/processed/train.csv', sep = ',')\n",
    "test = pd.read_csv('../data/processed/test.csv', sep = ',')\n",
    "\n",
    "# Split Data\n",
    "X_train = train.drop('Class', axis=1)\n",
    "X_test = test.drop('Class', axis=1)\n",
    "\n",
    "y_train = train['Class']\n",
    "y_test = test['Class']\n",
    "\n",
    "# Config\n",
    "RANDOM_STATE = 2018\n",
    "\n",
    "# Config RandomForestClassifier\n",
    "RFC_METRIC = 'gini'  # Metrica usada para RandomForestClassifier\n",
    "NUM_ESTIMATORS = 100 # Numeros de estimadores para RandomForestClassifier\n",
    "NO_JOBS = 4 # Numeros de jobs paralelos para RandomForestClassifier\n",
    "\n",
    "\n",
    "# Config XGBoost\n",
    "params = {}\n",
    "params['objective'] = 'binary:logistic'\n",
    "params['eta'] = 0.039\n",
    "params['silent'] = True\n",
    "params['max_depth'] = 2\n",
    "params['subsample'] = 0.8\n",
    "params['colsample_bytree'] = 0.9\n",
    "params['eval_metric'] = 'auc'\n",
    "params['random_state'] = RANDOM_STATE\n",
    "MAX_ROUNDS = 1000 \n",
    "EARLY_STOP = 50 \n",
    "OPT_ROUNDS = 1000  \n",
    "VERBOSE_EVAL = 50 "
   ]
  },
  {
   "cell_type": "markdown",
   "id": "ed2c3f4d",
   "metadata": {},
   "source": [
    "## LogisticRegression"
   ]
  },
  {
   "cell_type": "code",
   "execution_count": 2,
   "id": "ffc377a7",
   "metadata": {},
   "outputs": [
    {
     "name": "stderr",
     "output_type": "stream",
     "text": [
      "c:\\Users\\User\\OneDrive\\Escritorio\\RoadMap-DataScientist\\Deteccion-Fraude-Tarjetas-ML\\venv\\Lib\\site-packages\\sklearn\\linear_model\\_logistic.py:465: ConvergenceWarning: lbfgs failed to converge (status=1):\n",
      "STOP: TOTAL NO. OF ITERATIONS REACHED LIMIT.\n",
      "\n",
      "Increase the number of iterations (max_iter) or scale the data as shown in:\n",
      "    https://scikit-learn.org/stable/modules/preprocessing.html\n",
      "Please also refer to the documentation for alternative solver options:\n",
      "    https://scikit-learn.org/stable/modules/linear_model.html#logistic-regression\n",
      "  n_iter_i = _check_optimize_result(\n"
     ]
    }
   ],
   "source": [
    "lr = LogisticRegression(random_state=2018)\n",
    "\n",
    "lr.fit(X_train, y_train)\n",
    "\n",
    "y_pred_lr = lr.predict(X_test)"
   ]
  },
  {
   "cell_type": "markdown",
   "id": "e98efcff",
   "metadata": {},
   "source": [
    "## RandomForestClassifier"
   ]
  },
  {
   "cell_type": "code",
   "execution_count": 3,
   "id": "699cab66",
   "metadata": {},
   "outputs": [],
   "source": [
    "rf = RandomForestClassifier(random_state=RANDOM_STATE,\n",
    "                             criterion=RFC_METRIC,\n",
    "                             n_estimators=NUM_ESTIMATORS,\n",
    "                             verbose=False)\n",
    "\n",
    "rf.fit(X_train, y_train)\n",
    "\n",
    "y_pred_rf = rf.predict(X_test)"
   ]
  },
  {
   "cell_type": "markdown",
   "id": "3427f322",
   "metadata": {},
   "source": [
    "## XGBoostClassifier"
   ]
  },
  {
   "cell_type": "code",
   "execution_count": 4,
   "id": "91810728",
   "metadata": {},
   "outputs": [
    {
     "name": "stderr",
     "output_type": "stream",
     "text": [
      "c:\\Users\\User\\OneDrive\\Escritorio\\RoadMap-DataScientist\\Deteccion-Fraude-Tarjetas-ML\\venv\\Lib\\site-packages\\xgboost\\training.py:183: UserWarning: [16:11:29] WARNING: C:\\actions-runner\\_work\\xgboost\\xgboost\\src\\learner.cc:738: \n",
      "Parameters: { \"use_label_encoder\" } are not used.\n",
      "\n",
      "  bst.update(dtrain, iteration=i, fobj=obj)\n"
     ]
    }
   ],
   "source": [
    "xgb = XGBClassifier(\n",
    "    n_estimators=100,\n",
    "    max_depth=5,\n",
    "    learning_rate=0.1,\n",
    "    subsample=0.8,\n",
    "    colsample_bytree=0.8,\n",
    "    scale_pos_weight=1,  \n",
    "    use_label_encoder=False,\n",
    "    eval_metric='logloss',\n",
    "    random_state=RANDOM_STATE\n",
    ")\n",
    "\n",
    "\n",
    "xgb.fit(X_train, y_train)\n",
    "\n",
    "y_pred = xgb.predict(X_test)"
   ]
  }
 ],
 "metadata": {
  "kernelspec": {
   "display_name": "venv",
   "language": "python",
   "name": "python3"
  },
  "language_info": {
   "codemirror_mode": {
    "name": "ipython",
    "version": 3
   },
   "file_extension": ".py",
   "mimetype": "text/x-python",
   "name": "python",
   "nbconvert_exporter": "python",
   "pygments_lexer": "ipython3",
   "version": "3.13.5"
  }
 },
 "nbformat": 4,
 "nbformat_minor": 5
}
